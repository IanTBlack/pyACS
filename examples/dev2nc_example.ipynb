{
 "cells": [
  {
   "cell_type": "markdown",
   "source": [
    "# Example: Sea-Bird Scientific ACS Dev File to NetCDF Cal Group"
   ],
   "metadata": {
    "collapsed": false
   }
  },
  {
   "cell_type": "markdown",
   "source": [
    "### Setup\n",
    "\n",
    "The netCDF4 package is required to create a netcdf.\n",
    "The xarray package is an example of one method for opening netcdfs."
   ],
   "metadata": {
    "collapsed": false
   }
  },
  {
   "cell_type": "code",
   "execution_count": 9,
   "outputs": [
    {
     "name": "stdout",
     "output_type": "stream",
     "text": [
      "Defaulting to user installation because normal site-packages is not writeable\n",
      "Looking in indexes: https://pypi.org/simple, https://pypi.ngc.nvidia.com\n",
      "Requirement already satisfied: netCDF4 in c:\\users\\ian\\appdata\\roaming\\python\\python310\\site-packages (1.5.8)\n",
      "Requirement already satisfied: numpy>=1.9 in c:\\users\\ian\\appdata\\roaming\\python\\python310\\site-packages (from netCDF4) (1.23.1)\n",
      "Requirement already satisfied: cftime in c:\\users\\ian\\appdata\\roaming\\python\\python310\\site-packages (from netCDF4) (1.6.2)\n",
      "Defaulting to user installation because normal site-packages is not writeable\n",
      "Looking in indexes: https://pypi.org/simple, https://pypi.ngc.nvidia.com\n",
      "Requirement already satisfied: xarray in c:\\users\\ian\\appdata\\roaming\\python\\python310\\site-packages (2022.3.0)\n",
      "Requirement already satisfied: numpy>=1.18 in c:\\users\\ian\\appdata\\roaming\\python\\python310\\site-packages (from xarray) (1.23.1)\n",
      "Requirement already satisfied: pandas>=1.1 in c:\\users\\ian\\appdata\\roaming\\python\\python310\\site-packages (from xarray) (1.4.3)\n",
      "Requirement already satisfied: packaging>=20.0 in c:\\users\\ian\\appdata\\roaming\\python\\python310\\site-packages (from xarray) (21.3)\n",
      "Requirement already satisfied: pyparsing!=3.0.5,>=2.0.2 in c:\\users\\ian\\appdata\\roaming\\python\\python310\\site-packages (from packaging>=20.0->xarray) (3.0.9)\n",
      "Requirement already satisfied: python-dateutil>=2.8.1 in c:\\users\\ian\\appdata\\roaming\\python\\python310\\site-packages (from pandas>=1.1->xarray) (2.8.2)\n",
      "Requirement already satisfied: pytz>=2020.1 in c:\\users\\ian\\appdata\\roaming\\python\\python310\\site-packages (from pandas>=1.1->xarray) (2022.1)\n",
      "Requirement already satisfied: six>=1.5 in c:\\users\\ian\\appdata\\roaming\\python\\python310\\site-packages (from python-dateutil>=2.8.1->pandas>=1.1->xarray) (1.16.0)\n"
     ]
    }
   ],
   "source": [
    "!pip install netCDF4\n",
    "!pip install xarray"
   ],
   "metadata": {
    "collapsed": false
   }
  },
  {
   "cell_type": "markdown",
   "source": [
    "### Imports"
   ],
   "metadata": {
    "collapsed": false
   }
  },
  {
   "cell_type": "code",
   "execution_count": 10,
   "outputs": [],
   "source": [
    "import xarray as xr  #One solution for ingesting netcdfs.\n",
    "from pyACS.utils.dev2nc import DEV2NC"
   ],
   "metadata": {
    "collapsed": false
   }
  },
  {
   "cell_type": "markdown",
   "source": [
    "### Define Input and Output Filepaths"
   ],
   "metadata": {
    "collapsed": false
   }
  },
  {
   "cell_type": "code",
   "execution_count": 11,
   "outputs": [],
   "source": [
    "dev_filepath = 'ACS011.DEV'\n",
    "nc_save_filepath = 'ACS011.nc'"
   ],
   "metadata": {
    "collapsed": false
   }
  },
  {
   "cell_type": "markdown",
   "source": [
    "### Instantiate Class to Convert Dev to NetCDF"
   ],
   "metadata": {
    "collapsed": false
   }
  },
  {
   "cell_type": "code",
   "execution_count": 12,
   "outputs": [
    {
     "name": "stdout",
     "output_type": "stream",
     "text": [
      "File saved to: C:\\Users\\Ian\\projects\\pyACS\\examples\\ACS011.nc\n"
     ]
    }
   ],
   "source": [
    "dev2nc = DEV2NC(input_device_filepath= dev_filepath,\n",
    "                output_nc_filepath = nc_save_filepath)\n",
    "print(f'File saved to: {dev2nc.nc_path}')"
   ],
   "metadata": {
    "collapsed": false
   }
  },
  {
   "cell_type": "markdown",
   "source": [
    "### Read In Calibration Info\n",
    "\n",
    "The contents of the dev file are saved to a group within the netcdf called `factory_calibration`."
   ],
   "metadata": {
    "collapsed": false
   }
  },
  {
   "cell_type": "code",
   "execution_count": 13,
   "outputs": [],
   "source": [
    "calibration = xr.open_dataset(dev2nc.nc_path, group = 'factory_calibration')\n",
    "calibration.close()"
   ],
   "metadata": {
    "collapsed": false
   }
  },
  {
   "cell_type": "code",
   "execution_count": 14,
   "outputs": [
    {
     "data": {
      "text/plain": "<xarray.Dataset>\nDimensions:        (temperatures: 35, wavelengths_a: 84, wavelengths_c: 84)\nCoordinates:\n  * temperatures   (temperatures) float64 0.7502 1.331 2.472 ... 33.52 34.45\n  * wavelengths_a  (wavelengths_a) float64 401.8 405.3 408.7 ... 735.0 738.9\n  * wavelengths_c  (wavelengths_c) float64 400.1 403.7 407.1 ... 734.2 738.1\nData variables:\n    offsets_a      (wavelengths_a) float64 ...\n    delta_t_a      (wavelengths_a, temperatures) float64 ...\n    offsets_c      (wavelengths_c) float64 ...\n    delta_t_c      (wavelengths_c, temperatures) float64 ...\nAttributes: (12/25)\n    title:                   ACS Factory Calibration\n    history:                 Factory Cal Date: 2022-10-20T00:00:00Z \\nConvert...\n    factory_cal_date:        2022-10-20T00:00:00Z\n    version:                 0.0.1\n    dev_structure_version:   3\n    serial_number:           0x5300000b\n    ...                      ...\n    max_c_difference:        0.0\n    min_a_counts:            0.0\n    min_c_counts:            0.0\n    min_r_counts:            0.0\n    max_temp_sdev:           0.0\n    max_depth_sdev:          0.0",
      "text/html": "<div><svg style=\"position: absolute; width: 0; height: 0; overflow: hidden\">\n<defs>\n<symbol id=\"icon-database\" viewBox=\"0 0 32 32\">\n<path d=\"M16 0c-8.837 0-16 2.239-16 5v4c0 2.761 7.163 5 16 5s16-2.239 16-5v-4c0-2.761-7.163-5-16-5z\"></path>\n<path d=\"M16 17c-8.837 0-16-2.239-16-5v6c0 2.761 7.163 5 16 5s16-2.239 16-5v-6c0 2.761-7.163 5-16 5z\"></path>\n<path d=\"M16 26c-8.837 0-16-2.239-16-5v6c0 2.761 7.163 5 16 5s16-2.239 16-5v-6c0 2.761-7.163 5-16 5z\"></path>\n</symbol>\n<symbol id=\"icon-file-text2\" viewBox=\"0 0 32 32\">\n<path d=\"M28.681 7.159c-0.694-0.947-1.662-2.053-2.724-3.116s-2.169-2.030-3.116-2.724c-1.612-1.182-2.393-1.319-2.841-1.319h-15.5c-1.378 0-2.5 1.121-2.5 2.5v27c0 1.378 1.122 2.5 2.5 2.5h23c1.378 0 2.5-1.122 2.5-2.5v-19.5c0-0.448-0.137-1.23-1.319-2.841zM24.543 5.457c0.959 0.959 1.712 1.825 2.268 2.543h-4.811v-4.811c0.718 0.556 1.584 1.309 2.543 2.268zM28 29.5c0 0.271-0.229 0.5-0.5 0.5h-23c-0.271 0-0.5-0.229-0.5-0.5v-27c0-0.271 0.229-0.5 0.5-0.5 0 0 15.499-0 15.5 0v7c0 0.552 0.448 1 1 1h7v19.5z\"></path>\n<path d=\"M23 26h-14c-0.552 0-1-0.448-1-1s0.448-1 1-1h14c0.552 0 1 0.448 1 1s-0.448 1-1 1z\"></path>\n<path d=\"M23 22h-14c-0.552 0-1-0.448-1-1s0.448-1 1-1h14c0.552 0 1 0.448 1 1s-0.448 1-1 1z\"></path>\n<path d=\"M23 18h-14c-0.552 0-1-0.448-1-1s0.448-1 1-1h14c0.552 0 1 0.448 1 1s-0.448 1-1 1z\"></path>\n</symbol>\n</defs>\n</svg>\n<style>/* CSS stylesheet for displaying xarray objects in jupyterlab.\n *\n */\n\n:root {\n  --xr-font-color0: var(--jp-content-font-color0, rgba(0, 0, 0, 1));\n  --xr-font-color2: var(--jp-content-font-color2, rgba(0, 0, 0, 0.54));\n  --xr-font-color3: var(--jp-content-font-color3, rgba(0, 0, 0, 0.38));\n  --xr-border-color: var(--jp-border-color2, #e0e0e0);\n  --xr-disabled-color: var(--jp-layout-color3, #bdbdbd);\n  --xr-background-color: var(--jp-layout-color0, white);\n  --xr-background-color-row-even: var(--jp-layout-color1, white);\n  --xr-background-color-row-odd: var(--jp-layout-color2, #eeeeee);\n}\n\nhtml[theme=dark],\nbody.vscode-dark {\n  --xr-font-color0: rgba(255, 255, 255, 1);\n  --xr-font-color2: rgba(255, 255, 255, 0.54);\n  --xr-font-color3: rgba(255, 255, 255, 0.38);\n  --xr-border-color: #1F1F1F;\n  --xr-disabled-color: #515151;\n  --xr-background-color: #111111;\n  --xr-background-color-row-even: #111111;\n  --xr-background-color-row-odd: #313131;\n}\n\n.xr-wrap {\n  display: block !important;\n  min-width: 300px;\n  max-width: 700px;\n}\n\n.xr-text-repr-fallback {\n  /* fallback to plain text repr when CSS is not injected (untrusted notebook) */\n  display: none;\n}\n\n.xr-header {\n  padding-top: 6px;\n  padding-bottom: 6px;\n  margin-bottom: 4px;\n  border-bottom: solid 1px var(--xr-border-color);\n}\n\n.xr-header > div,\n.xr-header > ul {\n  display: inline;\n  margin-top: 0;\n  margin-bottom: 0;\n}\n\n.xr-obj-type,\n.xr-array-name {\n  margin-left: 2px;\n  margin-right: 10px;\n}\n\n.xr-obj-type {\n  color: var(--xr-font-color2);\n}\n\n.xr-sections {\n  padding-left: 0 !important;\n  display: grid;\n  grid-template-columns: 150px auto auto 1fr 20px 20px;\n}\n\n.xr-section-item {\n  display: contents;\n}\n\n.xr-section-item input {\n  display: none;\n}\n\n.xr-section-item input + label {\n  color: var(--xr-disabled-color);\n}\n\n.xr-section-item input:enabled + label {\n  cursor: pointer;\n  color: var(--xr-font-color2);\n}\n\n.xr-section-item input:enabled + label:hover {\n  color: var(--xr-font-color0);\n}\n\n.xr-section-summary {\n  grid-column: 1;\n  color: var(--xr-font-color2);\n  font-weight: 500;\n}\n\n.xr-section-summary > span {\n  display: inline-block;\n  padding-left: 0.5em;\n}\n\n.xr-section-summary-in:disabled + label {\n  color: var(--xr-font-color2);\n}\n\n.xr-section-summary-in + label:before {\n  display: inline-block;\n  content: '►';\n  font-size: 11px;\n  width: 15px;\n  text-align: center;\n}\n\n.xr-section-summary-in:disabled + label:before {\n  color: var(--xr-disabled-color);\n}\n\n.xr-section-summary-in:checked + label:before {\n  content: '▼';\n}\n\n.xr-section-summary-in:checked + label > span {\n  display: none;\n}\n\n.xr-section-summary,\n.xr-section-inline-details {\n  padding-top: 4px;\n  padding-bottom: 4px;\n}\n\n.xr-section-inline-details {\n  grid-column: 2 / -1;\n}\n\n.xr-section-details {\n  display: none;\n  grid-column: 1 / -1;\n  margin-bottom: 5px;\n}\n\n.xr-section-summary-in:checked ~ .xr-section-details {\n  display: contents;\n}\n\n.xr-array-wrap {\n  grid-column: 1 / -1;\n  display: grid;\n  grid-template-columns: 20px auto;\n}\n\n.xr-array-wrap > label {\n  grid-column: 1;\n  vertical-align: top;\n}\n\n.xr-preview {\n  color: var(--xr-font-color3);\n}\n\n.xr-array-preview,\n.xr-array-data {\n  padding: 0 5px !important;\n  grid-column: 2;\n}\n\n.xr-array-data,\n.xr-array-in:checked ~ .xr-array-preview {\n  display: none;\n}\n\n.xr-array-in:checked ~ .xr-array-data,\n.xr-array-preview {\n  display: inline-block;\n}\n\n.xr-dim-list {\n  display: inline-block !important;\n  list-style: none;\n  padding: 0 !important;\n  margin: 0;\n}\n\n.xr-dim-list li {\n  display: inline-block;\n  padding: 0;\n  margin: 0;\n}\n\n.xr-dim-list:before {\n  content: '(';\n}\n\n.xr-dim-list:after {\n  content: ')';\n}\n\n.xr-dim-list li:not(:last-child):after {\n  content: ',';\n  padding-right: 5px;\n}\n\n.xr-has-index {\n  font-weight: bold;\n}\n\n.xr-var-list,\n.xr-var-item {\n  display: contents;\n}\n\n.xr-var-item > div,\n.xr-var-item label,\n.xr-var-item > .xr-var-name span {\n  background-color: var(--xr-background-color-row-even);\n  margin-bottom: 0;\n}\n\n.xr-var-item > .xr-var-name:hover span {\n  padding-right: 5px;\n}\n\n.xr-var-list > li:nth-child(odd) > div,\n.xr-var-list > li:nth-child(odd) > label,\n.xr-var-list > li:nth-child(odd) > .xr-var-name span {\n  background-color: var(--xr-background-color-row-odd);\n}\n\n.xr-var-name {\n  grid-column: 1;\n}\n\n.xr-var-dims {\n  grid-column: 2;\n}\n\n.xr-var-dtype {\n  grid-column: 3;\n  text-align: right;\n  color: var(--xr-font-color2);\n}\n\n.xr-var-preview {\n  grid-column: 4;\n}\n\n.xr-var-name,\n.xr-var-dims,\n.xr-var-dtype,\n.xr-preview,\n.xr-attrs dt {\n  white-space: nowrap;\n  overflow: hidden;\n  text-overflow: ellipsis;\n  padding-right: 10px;\n}\n\n.xr-var-name:hover,\n.xr-var-dims:hover,\n.xr-var-dtype:hover,\n.xr-attrs dt:hover {\n  overflow: visible;\n  width: auto;\n  z-index: 1;\n}\n\n.xr-var-attrs,\n.xr-var-data {\n  display: none;\n  background-color: var(--xr-background-color) !important;\n  padding-bottom: 5px !important;\n}\n\n.xr-var-attrs-in:checked ~ .xr-var-attrs,\n.xr-var-data-in:checked ~ .xr-var-data {\n  display: block;\n}\n\n.xr-var-data > table {\n  float: right;\n}\n\n.xr-var-name span,\n.xr-var-data,\n.xr-attrs {\n  padding-left: 25px !important;\n}\n\n.xr-attrs,\n.xr-var-attrs,\n.xr-var-data {\n  grid-column: 1 / -1;\n}\n\ndl.xr-attrs {\n  padding: 0;\n  margin: 0;\n  display: grid;\n  grid-template-columns: 125px auto;\n}\n\n.xr-attrs dt,\n.xr-attrs dd {\n  padding: 0;\n  margin: 0;\n  float: left;\n  padding-right: 10px;\n  width: auto;\n}\n\n.xr-attrs dt {\n  font-weight: normal;\n  grid-column: 1;\n}\n\n.xr-attrs dt:hover span {\n  display: inline-block;\n  background: var(--xr-background-color);\n  padding-right: 10px;\n}\n\n.xr-attrs dd {\n  grid-column: 2;\n  white-space: pre-wrap;\n  word-break: break-all;\n}\n\n.xr-icon-database,\n.xr-icon-file-text2 {\n  display: inline-block;\n  vertical-align: middle;\n  width: 1em;\n  height: 1.5em !important;\n  stroke-width: 0;\n  stroke: currentColor;\n  fill: currentColor;\n}\n</style><pre class='xr-text-repr-fallback'>&lt;xarray.Dataset&gt;\nDimensions:        (temperatures: 35, wavelengths_a: 84, wavelengths_c: 84)\nCoordinates:\n  * temperatures   (temperatures) float64 0.7502 1.331 2.472 ... 33.52 34.45\n  * wavelengths_a  (wavelengths_a) float64 401.8 405.3 408.7 ... 735.0 738.9\n  * wavelengths_c  (wavelengths_c) float64 400.1 403.7 407.1 ... 734.2 738.1\nData variables:\n    offsets_a      (wavelengths_a) float64 0.7493 0.8166 0.876 ... 0.4245 0.2605\n    delta_t_a      (wavelengths_a, temperatures) float64 -7.9e-05 ... -0.003371\n    offsets_c      (wavelengths_c) float64 0.6014 0.6657 ... -0.756 -0.9383\n    delta_t_c      (wavelengths_c, temperatures) float64 0.05002 ... 0.009747\nAttributes: (12/25)\n    title:                   ACS Factory Calibration\n    history:                 Factory Cal Date: 2022-10-20T00:00:00Z \\nConvert...\n    factory_cal_date:        2022-10-20T00:00:00Z\n    version:                 0.0.1\n    dev_structure_version:   3\n    serial_number:           0x5300000b\n    ...                      ...\n    max_c_difference:        0.0\n    min_a_counts:            0.0\n    min_c_counts:            0.0\n    min_r_counts:            0.0\n    max_temp_sdev:           0.0\n    max_depth_sdev:          0.0</pre><div class='xr-wrap' style='display:none'><div class='xr-header'><div class='xr-obj-type'>xarray.Dataset</div></div><ul class='xr-sections'><li class='xr-section-item'><input id='section-5e615fd5-5945-4079-8e18-52730dec9eda' class='xr-section-summary-in' type='checkbox' disabled ><label for='section-5e615fd5-5945-4079-8e18-52730dec9eda' class='xr-section-summary'  title='Expand/collapse section'>Dimensions:</label><div class='xr-section-inline-details'><ul class='xr-dim-list'><li><span class='xr-has-index'>temperatures</span>: 35</li><li><span class='xr-has-index'>wavelengths_a</span>: 84</li><li><span class='xr-has-index'>wavelengths_c</span>: 84</li></ul></div><div class='xr-section-details'></div></li><li class='xr-section-item'><input id='section-0bef8347-682c-42b3-9583-ccafe4ff511d' class='xr-section-summary-in' type='checkbox'  checked><label for='section-0bef8347-682c-42b3-9583-ccafe4ff511d' class='xr-section-summary' >Coordinates: <span>(3)</span></label><div class='xr-section-inline-details'></div><div class='xr-section-details'><ul class='xr-var-list'><li class='xr-var-item'><div class='xr-var-name'><span class='xr-has-index'>temperatures</span></div><div class='xr-var-dims'>(temperatures)</div><div class='xr-var-dtype'>float64</div><div class='xr-var-preview xr-preview'>0.7502 1.331 2.472 ... 33.52 34.45</div><input id='attrs-f1842122-bf70-4fd7-98c6-c4c13d4fe740' class='xr-var-attrs-in' type='checkbox' disabled><label for='attrs-f1842122-bf70-4fd7-98c6-c4c13d4fe740' title='Show/Hide attributes'><svg class='icon xr-icon-file-text2'><use xlink:href='#icon-file-text2'></use></svg></label><input id='data-e7295866-4f4a-439d-8891-24bc32a4467a' class='xr-var-data-in' type='checkbox'><label for='data-e7295866-4f4a-439d-8891-24bc32a4467a' title='Show/Hide data repr'><svg class='icon xr-icon-database'><use xlink:href='#icon-database'></use></svg></label><div class='xr-var-attrs'><dl class='xr-attrs'></dl></div><div class='xr-var-data'><pre>array([ 0.750229,  1.331444,  2.471538,  3.531667,  4.488636,  5.512143,\n        6.505652,  7.505417,  8.4996  ,  9.497917, 10.4775  , 11.4832  ,\n       12.5088  , 13.5104  , 14.505652, 15.486   , 16.478182, 17.524074,\n       18.472692, 19.502   , 20.4896  , 21.465   , 22.4976  , 23.505   ,\n       24.493462, 25.481923, 26.4948  , 27.5036  , 28.479231, 29.484783,\n       30.472222, 31.502917, 32.495556, 33.5175  , 34.451724])</pre></div></li><li class='xr-var-item'><div class='xr-var-name'><span class='xr-has-index'>wavelengths_a</span></div><div class='xr-var-dims'>(wavelengths_a)</div><div class='xr-var-dtype'>float64</div><div class='xr-var-preview xr-preview'>401.8 405.3 408.7 ... 735.0 738.9</div><input id='attrs-59061a02-3578-463a-a476-04e537733060' class='xr-var-attrs-in' type='checkbox' disabled><label for='attrs-59061a02-3578-463a-a476-04e537733060' title='Show/Hide attributes'><svg class='icon xr-icon-file-text2'><use xlink:href='#icon-file-text2'></use></svg></label><input id='data-ee5196f7-5655-427b-80ae-86f0db2be048' class='xr-var-data-in' type='checkbox'><label for='data-ee5196f7-5655-427b-80ae-86f0db2be048' title='Show/Hide data repr'><svg class='icon xr-icon-database'><use xlink:href='#icon-database'></use></svg></label><div class='xr-var-attrs'><dl class='xr-attrs'></dl></div><div class='xr-var-data'><pre>array([401.8, 405.3, 408.7, 412.1, 415.5, 419. , 423.3, 427.6, 431.3, 435.4,\n       439.1, 442.8, 447.4, 451.8, 455.9, 459.9, 464.1, 468.4, 472.6, 477.3,\n       482. , 486.4, 490.6, 494.8, 498.8, 502.8, 506.9, 511.8, 516.5, 521. ,\n       524.9, 529.2, 532.9, 537.2, 541.3, 545.2, 549.7, 553.8, 558.2, 562.5,\n       566.2, 570.3, 573.7, 577.3, 581. , 584.6, 586.9, 590.7, 595. , 599.6,\n       603.8, 608. , 612.3, 616.9, 621.2, 625.2, 629.4, 633.4, 637.3, 641.6,\n       646. , 650.9, 655.2, 660.9, 665. , 668.5, 672.9, 677.1, 681.1, 685.5,\n       689.2, 692.6, 696.3, 700.4, 704.4, 707.8, 711.6, 715.3, 719.5, 723.5,\n       727.3, 731.1, 735. , 738.9])</pre></div></li><li class='xr-var-item'><div class='xr-var-name'><span class='xr-has-index'>wavelengths_c</span></div><div class='xr-var-dims'>(wavelengths_c)</div><div class='xr-var-dtype'>float64</div><div class='xr-var-preview xr-preview'>400.1 403.7 407.1 ... 734.2 738.1</div><input id='attrs-2715909e-577b-43bb-aeed-7adc188b7409' class='xr-var-attrs-in' type='checkbox' disabled><label for='attrs-2715909e-577b-43bb-aeed-7adc188b7409' title='Show/Hide attributes'><svg class='icon xr-icon-file-text2'><use xlink:href='#icon-file-text2'></use></svg></label><input id='data-9281d4f4-b83a-44a6-9f10-432f142d9631' class='xr-var-data-in' type='checkbox'><label for='data-9281d4f4-b83a-44a6-9f10-432f142d9631' title='Show/Hide data repr'><svg class='icon xr-icon-database'><use xlink:href='#icon-database'></use></svg></label><div class='xr-var-attrs'><dl class='xr-attrs'></dl></div><div class='xr-var-data'><pre>array([400.1, 403.7, 407.1, 410.7, 413.7, 417.6, 421.5, 426. , 429.9, 433.6,\n       437.7, 441.4, 445.3, 449.9, 453.9, 458.2, 462.2, 466.2, 470.6, 475.4,\n       480.3, 484.5, 488.3, 492.8, 496.8, 501. , 505.2, 509.5, 514. , 518.9,\n       523. , 527. , 531.1, 535.1, 539.4, 543.2, 547.5, 551.9, 555.8, 560.3,\n       564.2, 567.9, 571.9, 575.4, 579. , 582.7, 586.8, 590.5, 594.5, 599.1,\n       603.1, 607.5, 612. , 616.2, 620.4, 624.5, 628.7, 633. , 636.7, 641.2,\n       645.5, 650.1, 654.4, 660.1, 664.4, 667.8, 672.3, 676.5, 680.4, 684.8,\n       688.7, 692. , 695.8, 699.7, 704.1, 707.6, 711.3, 715.2, 719. , 723. ,\n       727. , 730.8, 734.2, 738.1])</pre></div></li></ul></div></li><li class='xr-section-item'><input id='section-c32db1ea-17c4-402a-a30c-0eeac842d95c' class='xr-section-summary-in' type='checkbox'  checked><label for='section-c32db1ea-17c4-402a-a30c-0eeac842d95c' class='xr-section-summary' >Data variables: <span>(4)</span></label><div class='xr-section-inline-details'></div><div class='xr-section-details'><ul class='xr-var-list'><li class='xr-var-item'><div class='xr-var-name'><span>offsets_a</span></div><div class='xr-var-dims'>(wavelengths_a)</div><div class='xr-var-dtype'>float64</div><div class='xr-var-preview xr-preview'>...</div><input id='attrs-ff945ee0-b4c3-4aeb-bc54-ffd6ddc7ede6' class='xr-var-attrs-in' type='checkbox' disabled><label for='attrs-ff945ee0-b4c3-4aeb-bc54-ffd6ddc7ede6' title='Show/Hide attributes'><svg class='icon xr-icon-file-text2'><use xlink:href='#icon-file-text2'></use></svg></label><input id='data-d74364e6-7ece-44b0-a453-1bc174297423' class='xr-var-data-in' type='checkbox'><label for='data-d74364e6-7ece-44b0-a453-1bc174297423' title='Show/Hide data repr'><svg class='icon xr-icon-database'><use xlink:href='#icon-database'></use></svg></label><div class='xr-var-attrs'><dl class='xr-attrs'></dl></div><div class='xr-var-data'><pre>array([0.749297, 0.816599, 0.876016, 0.924605, 0.961167, 1.000406, 1.035006,\n       1.068569, 1.102585, 1.137217, 1.170413, 1.203522, 1.237074, 1.26988 ,\n       1.303287, 1.337831, 1.372163, 1.404844, 1.438029, 1.470716, 1.503073,\n       1.533875, 1.56498 , 1.593635, 1.621208, 1.646586, 1.670477, 1.694855,\n       1.719668, 1.744177, 1.769133, 1.794122, 1.817541, 1.840803, 1.862342,\n       1.883109, 1.902096, 1.920801, 1.939663, 1.956619, 1.97276 , 1.987331,\n       1.998445, 2.006752, 2.011858, 2.013213, 2.00448 , 1.999159, 1.990102,\n       1.980977, 1.976127, 1.97757 , 1.984528, 1.99461 , 2.005529, 2.015949,\n       2.026391, 2.036014, 2.044608, 2.051035, 2.054961, 2.057809, 2.055107,\n       2.052177, 2.05485 , 2.055688, 2.056294, 2.055659, 2.04864 , 2.034242,\n       2.01349 , 1.982466, 1.936871, 1.873488, 1.791794, 1.696895, 1.577939,\n       1.430536, 1.256978, 1.057596, 0.839352, 0.622312, 0.424532, 0.260524])</pre></div></li><li class='xr-var-item'><div class='xr-var-name'><span>delta_t_a</span></div><div class='xr-var-dims'>(wavelengths_a, temperatures)</div><div class='xr-var-dtype'>float64</div><div class='xr-var-preview xr-preview'>...</div><input id='attrs-9d612da8-2a78-4905-b071-234399f8e81c' class='xr-var-attrs-in' type='checkbox' disabled><label for='attrs-9d612da8-2a78-4905-b071-234399f8e81c' title='Show/Hide attributes'><svg class='icon xr-icon-file-text2'><use xlink:href='#icon-file-text2'></use></svg></label><input id='data-8aecc757-91b9-495a-8a55-9aa984a92c0c' class='xr-var-data-in' type='checkbox'><label for='data-8aecc757-91b9-495a-8a55-9aa984a92c0c' title='Show/Hide data repr'><svg class='icon xr-icon-database'><use xlink:href='#icon-database'></use></svg></label><div class='xr-var-attrs'><dl class='xr-attrs'></dl></div><div class='xr-var-data'><pre>array([[-7.900e-05, -1.742e-03, -5.339e-03, ..., -8.950e-04, -1.400e-03,\n        -2.171e-03],\n       [ 1.358e-03,  1.612e-03, -9.530e-04, ..., -2.385e-03, -2.753e-03,\n        -4.736e-03],\n       [ 4.454e-03,  3.685e-03,  1.387e-03, ..., -4.488e-03, -4.904e-03,\n        -6.855e-03],\n       ...,\n       [ 5.177e-03,  4.760e-03,  4.484e-03, ..., -2.697e-03, -3.088e-03,\n        -3.526e-03],\n       [ 5.297e-03,  4.813e-03,  4.523e-03, ..., -2.480e-03, -2.949e-03,\n        -3.345e-03],\n       [ 5.244e-03,  4.756e-03,  4.446e-03, ..., -2.498e-03, -2.974e-03,\n        -3.371e-03]])</pre></div></li><li class='xr-var-item'><div class='xr-var-name'><span>offsets_c</span></div><div class='xr-var-dims'>(wavelengths_c)</div><div class='xr-var-dtype'>float64</div><div class='xr-var-preview xr-preview'>...</div><input id='attrs-3b281b07-44f7-4f7e-b381-9e8a43a32a45' class='xr-var-attrs-in' type='checkbox' disabled><label for='attrs-3b281b07-44f7-4f7e-b381-9e8a43a32a45' title='Show/Hide attributes'><svg class='icon xr-icon-file-text2'><use xlink:href='#icon-file-text2'></use></svg></label><input id='data-f71fe358-ef58-4fb0-9681-7abe5ffc72f9' class='xr-var-data-in' type='checkbox'><label for='data-f71fe358-ef58-4fb0-9681-7abe5ffc72f9' title='Show/Hide data repr'><svg class='icon xr-icon-database'><use xlink:href='#icon-database'></use></svg></label><div class='xr-var-attrs'><dl class='xr-attrs'></dl></div><div class='xr-var-data'><pre>array([ 0.60136 ,  0.665676,  0.713397,  0.755901,  0.79398 ,  0.82822 ,\n        0.854947,  0.880432,  0.903515,  0.922355,  0.948122,  0.969526,\n        0.986628,  1.002943,  1.017698,  1.03773 ,  1.045681,  1.062618,\n        1.072824,  1.086654,  1.099746,  1.11219 ,  1.118247,  1.132822,\n        1.139844,  1.147617,  1.156291,  1.156315,  1.159022,  1.16789 ,\n        1.172823,  1.174586,  1.179474,  1.17823 ,  1.18622 ,  1.189464,\n        1.193916,  1.200585,  1.197905,  1.208355,  1.208369,  1.206663,\n        1.208433,  1.203209,  1.193433,  1.189103,  1.184597,  1.166915,\n        1.149371,  1.121894,  1.099571,  1.087499,  1.079251,  1.077736,\n        1.075722,  1.071384,  1.069002,  1.063591,  1.059278,  1.053789,\n        1.051887,  1.036609,  1.032427,  1.007749,  0.964577,  0.988206,\n        0.981114,  0.959053,  0.955443,  0.92789 ,  0.889684,  0.859963,\n        0.814504,  0.746274,  0.650993,  0.542551,  0.431474,  0.284968,\n        0.101559, -0.096968, -0.322744, -0.555837, -0.755998, -0.938332])</pre></div></li><li class='xr-var-item'><div class='xr-var-name'><span>delta_t_c</span></div><div class='xr-var-dims'>(wavelengths_c, temperatures)</div><div class='xr-var-dtype'>float64</div><div class='xr-var-preview xr-preview'>...</div><input id='attrs-a92bc72d-ea5b-4b2d-beb1-2e7d51ff14a0' class='xr-var-attrs-in' type='checkbox' disabled><label for='attrs-a92bc72d-ea5b-4b2d-beb1-2e7d51ff14a0' title='Show/Hide attributes'><svg class='icon xr-icon-file-text2'><use xlink:href='#icon-file-text2'></use></svg></label><input id='data-d6dddecb-0c69-4e5e-8409-8b238ed28f25' class='xr-var-data-in' type='checkbox'><label for='data-d6dddecb-0c69-4e5e-8409-8b238ed28f25' title='Show/Hide data repr'><svg class='icon xr-icon-database'><use xlink:href='#icon-database'></use></svg></label><div class='xr-var-attrs'><dl class='xr-attrs'></dl></div><div class='xr-var-data'><pre>array([[ 0.050016,  0.046547,  0.042912, ..., -0.01109 , -0.012505, -0.013086],\n       [ 0.046871,  0.045818,  0.04235 , ..., -0.009924, -0.011226, -0.012006],\n       [ 0.040905,  0.041068,  0.038525, ..., -0.010587, -0.011712, -0.012405],\n       ...,\n       [-0.002514, -0.006327, -0.007235, ...,  0.006922,  0.008036,  0.0096  ],\n       [-0.002814, -0.006454, -0.007337, ...,  0.006846,  0.008013,  0.00957 ],\n       [-0.003494, -0.007083, -0.00788 , ...,  0.006972,  0.008098,  0.009747]])</pre></div></li></ul></div></li><li class='xr-section-item'><input id='section-0a17a8cc-3582-49f0-bb28-bae54bf74530' class='xr-section-summary-in' type='checkbox'  ><label for='section-0a17a8cc-3582-49f0-bb28-bae54bf74530' class='xr-section-summary' >Attributes: <span>(25)</span></label><div class='xr-section-inline-details'></div><div class='xr-section-details'><dl class='xr-attrs'><dt><span>title :</span></dt><dd>ACS Factory Calibration</dd><dt><span>history :</span></dt><dd>Factory Cal Date: 2022-10-20T00:00:00Z \nConverted: 2023-05-19T20:15:48Z</dd><dt><span>factory_cal_date :</span></dt><dd>2022-10-20T00:00:00Z</dd><dt><span>version :</span></dt><dd>0.0.1</dd><dt><span>dev_structure_version :</span></dt><dd>3</dd><dt><span>serial_number :</span></dt><dd>0x5300000b</dd><dt><span>baud_rate :</span></dt><dd>115200</dd><dt><span>output_wavelengths :</span></dt><dd>84</dd><dt><span>output_temperatures :</span></dt><dd>35</dd><dt><span>path_length :</span></dt><dd>0.25</dd><dt><span>depth_cal_offset :</span></dt><dd>0.0</dd><dt><span>depth_cal_scale_factor :</span></dt><dd>0.0</dd><dt><span>tcal :</span></dt><dd>22.3</dd><dt><span>ical :</span></dt><dd>19.5</dd><dt><span>max_a_noise :</span></dt><dd>0.0</dd><dt><span>max_c_noise :</span></dt><dd>0.0</dd><dt><span>max_a_nonconform :</span></dt><dd>0.0</dd><dt><span>max_c_nonconform :</span></dt><dd>0.0</dd><dt><span>max_a_difference :</span></dt><dd>0.0</dd><dt><span>max_c_difference :</span></dt><dd>0.0</dd><dt><span>min_a_counts :</span></dt><dd>0.0</dd><dt><span>min_c_counts :</span></dt><dd>0.0</dd><dt><span>min_r_counts :</span></dt><dd>0.0</dd><dt><span>max_temp_sdev :</span></dt><dd>0.0</dd><dt><span>max_depth_sdev :</span></dt><dd>0.0</dd></dl></div></li></ul></div></div>"
     },
     "execution_count": 14,
     "metadata": {},
     "output_type": "execute_result"
    }
   ],
   "source": [
    "calibration"
   ],
   "metadata": {
    "collapsed": false
   }
  },
  {
   "cell_type": "markdown",
   "source": [
    "### Advantages of NC Grouping\n",
    "Providing the calibration information as a separate grouping allows ACS data and cal data to be housed within the same file, ensuring that there is consistency in array shapes and in how calibration information is applied. Additionally, subsequent calibration information can be dumped into separate groups, allowing for files to contain all of the necessary information to obtain quality ACS data."
   ],
   "metadata": {
    "collapsed": false
   }
  },
  {
   "cell_type": "markdown",
   "source": [],
   "metadata": {
    "collapsed": false
   }
  }
 ],
 "metadata": {
  "kernelspec": {
   "display_name": "Python 3",
   "language": "python",
   "name": "python3"
  },
  "language_info": {
   "codemirror_mode": {
    "name": "ipython",
    "version": 2
   },
   "file_extension": ".py",
   "mimetype": "text/x-python",
   "name": "python",
   "nbconvert_exporter": "python",
   "pygments_lexer": "ipython2",
   "version": "2.7.6"
  }
 },
 "nbformat": 4,
 "nbformat_minor": 0
}
