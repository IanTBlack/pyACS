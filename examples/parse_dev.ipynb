{
 "cells": [
  {
   "cell_type": "code",
   "execution_count": 1,
   "id": "initial_id",
   "metadata": {
    "collapsed": true,
    "ExecuteTime": {
     "end_time": "2024-01-04T19:49:48.144373400Z",
     "start_time": "2024-01-04T19:49:44.639958900Z"
    }
   },
   "outputs": [
    {
     "name": "stderr",
     "output_type": "stream",
     "text": [
      "C:\\Users\\Ian\\AppData\\Roaming\\Python\\Python310\\site-packages\\scipy\\__init__.py:146: UserWarning: A NumPy version >=1.17.3 and <1.25.0 is required for this version of SciPy (detected version 1.26.2\n",
      "  warnings.warn(f\"A NumPy version >={np_minversion} and <{np_maxversion}\"\n"
     ]
    }
   ],
   "source": [
    "from pyACS.dev import Dev"
   ]
  },
  {
   "cell_type": "code",
   "execution_count": 2,
   "outputs": [],
   "source": [
    "dev_filepath = 'example_acs284.dev'"
   ],
   "metadata": {
    "collapsed": false,
    "ExecuteTime": {
     "end_time": "2024-01-04T19:49:48.160584300Z",
     "start_time": "2024-01-04T19:49:48.145376300Z"
    }
   },
   "id": "2ff36043d1c919dc"
  },
  {
   "cell_type": "code",
   "execution_count": 8,
   "outputs": [
    {
     "name": "stdout",
     "output_type": "stream",
     "text": [
      "CPU times: total: 0 ns\n",
      "Wall time: 2.99 ms\n"
     ]
    },
    {
     "data": {
      "text/plain": "'example_acs284.dev'"
     },
     "execution_count": 8,
     "metadata": {},
     "output_type": "execute_result"
    }
   ],
   "source": [
    "%%time\n",
    "dev = Dev(dev_filepath)"
   ],
   "metadata": {
    "collapsed": false,
    "ExecuteTime": {
     "end_time": "2024-01-04T19:55:27.039961300Z",
     "start_time": "2024-01-04T19:55:27.025346Z"
    }
   },
   "id": "e878ba70676e3fa6"
  },
  {
   "cell_type": "markdown",
   "source": [
    "## Accessing Dev Metadata As Attributes"
   ],
   "metadata": {
    "collapsed": false
   },
   "id": "5c1d98a01f861ab7"
  },
  {
   "cell_type": "code",
   "execution_count": 9,
   "outputs": [
    {
     "name": "stdout",
     "output_type": "stream",
     "text": [
      "Filepath: example_acs284.dev\n",
      "Serial Number: ACS284\n",
      "Number of Wavelengths: 85\n",
      "Number of Temperature Bins: 35\n",
      "Delta T A Shape: (85, 35)\n",
      "Lambda a: [401.2 405.  408.7 411.9 415.3 419.2 423.3 427.4 431.5 435.4 438.9 443.2\n",
      " 447.8 452.  456.4 460.4 464.5 468.5 473.3 477.8 482.4 486.7 490.9 494.9\n",
      " 499.1 503.5 508.  512.3 517.  521.3 525.6 529.8 533.5 537.7 541.6 545.7\n",
      " 549.7 553.6 557.9 561.8 565.9 569.6 573.  576.4 579.3 583.  586.9 591.\n",
      " 594.9 599.1 603.3 607.5 611.8 616.2 620.2 624.5 628.7 632.7 636.7 640.8\n",
      " 644.8 648.9 653.2 657.7 661.9 666.2 670.5 674.5 678.5 682.5 686.4 690.3\n",
      " 693.9 697.6 701.2 704.9 708.4 712.1 715.7 719.3 722.7 725.9 729.5 732.6\n",
      " 735.8]\n",
      "Offsets a: [-1.118704 -0.95062  -0.799257 -0.662528 -0.537118 -0.420091 -0.313261\n",
      " -0.209484 -0.114756 -0.02481   0.058958  0.139318  0.215207  0.287463\n",
      "  0.357251  0.424577  0.488015  0.548444  0.605475  0.659976  0.712679\n",
      "  0.76238   0.809929  0.855908  0.898055  0.937653  0.974387  1.009814\n",
      "  1.044468  1.078762  1.111619  1.143431  1.173877  1.202758  1.229663\n",
      "  1.255119  1.279411  1.302573  1.324964  1.346189  1.365547  1.382734\n",
      "  1.396999  1.408256  1.4169    1.425817  1.430373  1.42912   1.422803\n",
      "  1.415164  1.411586  1.415804  1.426421  1.439822  1.454124  1.467964\n",
      "  1.480629  1.492719  1.503619  1.512996  1.519575  1.522346  1.521601\n",
      "  1.51961   1.519544  1.522582  1.52735   1.531476  1.532028  1.527583\n",
      "  1.51642   1.496354  1.46596   1.424117  1.368469  1.296575  1.204592\n",
      "  1.089808  0.950759  0.784231  0.589978  0.373007  0.145657 -0.074927\n",
      " -0.266722]\n"
     ]
    }
   ],
   "source": [
    "print(f\"Filepath: {dev.filepath}\")\n",
    "print(f\"Serial Number: {dev.sn}\")\n",
    "print(f\"Number of Wavelengths: {dev.output_wavelength}\")\n",
    "print(f\"Number of Temperature Bins: {dev.num_tbins}\")\n",
    "print(f\"Delta T A Shape: {dev.delta_t_a.shape}\")\n",
    "print(f\"Lambda a: {dev.lambda_a}\")\n",
    "print(f\"Offsets a: {dev.offset_a}\")"
   ],
   "metadata": {
    "collapsed": false,
    "ExecuteTime": {
     "end_time": "2024-01-04T19:55:50.339454600Z",
     "start_time": "2024-01-04T19:55:50.324345Z"
    }
   },
   "id": "3b534b84bc4b132a"
  },
  {
   "cell_type": "markdown",
   "source": [
    "## Accessing Dev Metadata As An Xarray Dataset"
   ],
   "metadata": {
    "collapsed": false
   },
   "id": "d95c71a453cfacf"
  },
  {
   "cell_type": "code",
   "execution_count": 5,
   "outputs": [],
   "source": [
    "devds = dev.to_ds()"
   ],
   "metadata": {
    "collapsed": false,
    "ExecuteTime": {
     "end_time": "2024-01-04T19:49:48.213885900Z",
     "start_time": "2024-01-04T19:49:48.191818200Z"
    }
   },
   "id": "ae54b9eb87f3b260"
  },
  {
   "cell_type": "markdown",
   "source": [
    "Additional info can be found in each variable attributes."
   ],
   "metadata": {
    "collapsed": false
   },
   "id": "1055c3f205e22c2b"
  },
  {
   "cell_type": "code",
   "execution_count": 7,
   "outputs": [
    {
     "data": {
      "text/plain": "{'units': 'nanometers',\n 'units_tex': '$nm$',\n 'description': 'ACS absorption wavelength bins.'}"
     },
     "execution_count": 7,
     "metadata": {},
     "output_type": "execute_result"
    }
   ],
   "source": [
    "devds.lambda_a.attrs"
   ],
   "metadata": {
    "collapsed": false,
    "ExecuteTime": {
     "end_time": "2024-01-04T19:50:00.899976Z",
     "start_time": "2024-01-04T19:50:00.888899900Z"
    }
   },
   "id": "416714d0a2341622"
  },
  {
   "cell_type": "code",
   "execution_count": 6,
   "outputs": [],
   "source": [],
   "metadata": {
    "collapsed": false,
    "ExecuteTime": {
     "end_time": "2024-01-04T19:49:48.278030400Z",
     "start_time": "2024-01-04T19:49:48.237497Z"
    }
   },
   "id": "222bff6f9e65a76e"
  }
 ],
 "metadata": {
  "kernelspec": {
   "display_name": "Python 3",
   "language": "python",
   "name": "python3"
  },
  "language_info": {
   "codemirror_mode": {
    "name": "ipython",
    "version": 2
   },
   "file_extension": ".py",
   "mimetype": "text/x-python",
   "name": "python",
   "nbconvert_exporter": "python",
   "pygments_lexer": "ipython2",
   "version": "2.7.6"
  }
 },
 "nbformat": 4,
 "nbformat_minor": 5
}
